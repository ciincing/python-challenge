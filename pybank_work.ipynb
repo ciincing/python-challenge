{
 "cells": [
  {
   "cell_type": "code",
   "execution_count": 1,
   "id": "3ae2e5b8-960b-4629-909b-8e3069c64d23",
   "metadata": {
    "tags": []
   },
   "outputs": [],
   "source": [
    "import os\n",
    "import csv\n",
    "\n",
    "budget_data = os.path.join(\"Resources\",\"budget_data.csv\")"
   ]
  },
  {
   "cell_type": "code",
   "execution_count": 9,
   "id": "8441cdf3-64ae-4739-a45c-15fc20b4f7bd",
   "metadata": {
    "tags": []
   },
   "outputs": [
    {
     "name": "stdout",
     "output_type": "stream",
     "text": [
      "Financial Analysis\n",
      "----------------------------\n",
      "Total Months: 86\n",
      "Total: $22564198\n",
      "Average Change : $-8311.11\n",
      "Greatest Increase in Profits: Aug-16 ($1862002)\n",
      "Greatest Decrease in Profits: Feb-14 ($-1825558)\n"
     ]
    }
   ],
   "source": [
    "with open(budget_data, newline=\"\") as csvfile:\n",
    "    csvreader = csv.reader(csvfile, delimiter=',')\n",
    "    csv_header = next(csvreader)\n",
    "    \n",
    "    total_months = 0 \n",
    "    total = 0\n",
    "    data = []\n",
    "    increase = 0\n",
    "    decrease = 0\n",
    "    increase_month = (\"\")\n",
    "    decrease_month = (\"\")\n",
    "    \n",
    "    for row in csvreader:\n",
    "        total_months = total_months + 1\n",
    "        total = int(total) + int(row[1])\n",
    "        data.append(row)\n",
    "        \n",
    "        for i in range(len(data)-1):\n",
    "            monthly_change = int((data)[i + 1][1]) - int((data)[i][1])\n",
    "    \n",
    "            if increase < monthly_change:\n",
    "                increase = monthly_change\n",
    "                increase_month = data[i + 1][0]\n",
    "            \n",
    "            if decrease > monthly_change:\n",
    "                decrease = monthly_change\n",
    "                decrease_month = data[i + 1][0]\n",
    "                \n",
    "            average_change = round((int((data)[-1][1]) - int((data)[0][1])) / (len(data)-1),2)\n",
    "\n",
    "print(\"Financial Analysis\")\n",
    "print(\"----------------------------\")\n",
    "print(f'Total Months: {total_months}')\n",
    "print(f'Total: ${total}')\n",
    "print(f'Average Change : ${average_change}')\n",
    "print(f'Greatest Increase in Profits: {increase_month} (${increase})')\n",
    "print(f'Greatest Decrease in Profits: {decrease_month} (${decrease})')\n",
    "\n",
    "\n",
    "output_file = os.path.join(\"pybank_result.csv\")\n",
    "with open(output_file,\"w\",newline=\"\") as datafile:\n",
    "    writer = csv.writer(datafile)\n",
    "    writer.writerow([\"Financial Analysis\"])\n",
    "    writer.writerow([\"----------------------------\"])\n",
    "    writer.writerow([f'Total Months: {total_months}'])\n",
    "    writer.writerow([f'Total: ${total}'])\n",
    "    writer.writerow([f'Average Change : ${average_change}'])\n",
    "    writer.writerow([f'Greatest Increase in Profits: {increase_month} (${increase})'])\n",
    "    writer.writerow([f'Greatest Decrease in Profits: {decrease_month} (${decrease})'])\n",
    "    \n",
    "    "
   ]
  },
  {
   "cell_type": "code",
   "execution_count": null,
   "id": "3042abd0-73f9-407e-9d75-23f150c0097c",
   "metadata": {},
   "outputs": [],
   "source": []
  }
 ],
 "metadata": {
  "kernelspec": {
   "display_name": "Python 3 (ipykernel)",
   "language": "python",
   "name": "python3"
  },
  "language_info": {
   "codemirror_mode": {
    "name": "ipython",
    "version": 3
   },
   "file_extension": ".py",
   "mimetype": "text/x-python",
   "name": "python",
   "nbconvert_exporter": "python",
   "pygments_lexer": "ipython3",
   "version": "3.10.9"
  }
 },
 "nbformat": 4,
 "nbformat_minor": 5
}
