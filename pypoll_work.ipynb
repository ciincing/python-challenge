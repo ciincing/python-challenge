{
 "cells": [
  {
   "cell_type": "code",
   "execution_count": 1,
   "id": "933e48a2-37ff-4ac6-a2e7-16ac4f7939f9",
   "metadata": {
    "tags": []
   },
   "outputs": [],
   "source": [
    "import os \n",
    "import csv \n",
    "\n",
    "election_data = os.path.join(\"Starter_Code_(1)\", \"Start_Code\", \"PyPoll\", \"Resources\", \"election_data.csv\")"
   ]
  },
  {
   "cell_type": "code",
   "execution_count": 29,
   "id": "c03f4728-744b-41ad-9a1e-321f9c0002dd",
   "metadata": {
    "tags": []
   },
   "outputs": [
    {
     "name": "stdout",
     "output_type": "stream",
     "text": [
      "Election Results\n",
      "-------------------------\n",
      "Total Votes :  369711\n",
      "-------------------------\n",
      "Charles Casper Stockham : 23.050% (85213)\n",
      "Diana DeGette : 73.810% (272892)\n",
      "Raymon Anthony Doane : 3.140% (11606)\n",
      "-------------------------\n",
      "Winner : Diana DeGette\n",
      "-------------------------\n"
     ]
    }
   ],
   "source": [
    "with open('election_data.csv', newline='') as csvfile:\n",
    "    csvreader = csv.reader(csvfile, delimiter=\",\")\n",
    "    file_header = next(csvreader)\n",
    "    \n",
    "    vote_total = 0\n",
    "    candidate_vote = {}\n",
    "    \n",
    "    candidate_list = []\n",
    "    vote_count = []\n",
    "    vote_percentage = []\n",
    "    vote_percentage_list = []\n",
    "    vote_winners = 0\n",
    "    winner = \"\"\n",
    "    new_output = []\n",
    "    \n",
    "    for row in csvreader:\n",
    "        vote_total = vote_total + 1\n",
    "        \n",
    "        candidate_name = row[2]\n",
    "        \n",
    "        if candidate_name in candidate_list: \n",
    "            candidate_vote[candidate_name] = candidate_vote[candidate_name] + 1\n",
    "            \n",
    "        else: \n",
    "            candidate_list.append(candidate_name)\n",
    "            candidate_vote[candidate_name] = 1\n",
    "            \n",
    "    for key, value in candidate_vote.items():\n",
    "        vote_count.append(value)\n",
    "        votes = candidate_vote[candidate_name]\n",
    "        vote_percentage = round((int(value)/ vote_total * 100),2)\n",
    "        vote_percentage_list.append(vote_percentage)\n",
    "        \n",
    "        if (value > vote_winners):\n",
    "            vote_winners = value \n",
    "            winner = key\n",
    "            \n",
    "    new_output = zip(candidate_list, vote_percentage_list, vote_count)\n",
    "    new_output = list(new_output)\n",
    "\n",
    "    print(\"Election Results\")\n",
    "    print(\"-------------------------\")\n",
    "    print(f'Total Votes :  {vote_total}')\n",
    "    print(\"-------------------------\")\n",
    "    for item in new_output:\n",
    "        print(f'{item[0]} : {item[1]}0% ({item[2]})')\n",
    "    print(\"-------------------------\")\n",
    "    print(f'Winner : {winner}')\n",
    "    print(\"-------------------------\")\n",
    "    \n",
    "output_file = os.path.join(\"pypoll_work.csv\")\n",
    "with open(output_file,\"w\",newline=\"\") as datafile:\n",
    "    writer = csv.writer(datafile)\n",
    "    \n",
    "output_file = os.path.join(\"pypoll_work.csv\")\n",
    "with open(output_file,\"w\",newline=\"\") as datafile:\n",
    "    csvwriter = csv.writer(datafile)\n",
    "    \n",
    "    csvwriter.writerow([\"Election Results\"])\n",
    "    csvwriter.writerow([\"-------------------------\"])\n",
    "    csvwriter.writerow([f'Total Votes :  {vote_total}'])\n",
    "    csvwriter.writerow([\"-------------------------\"])\n",
    "    for item in new_output:\n",
    "        csvwriter.writerow([f'{item[0]} : {item[1]}0% ({item[2]})'])\n",
    "    csvwriter.writerow([\"-------------------------\"])\n",
    "    csvwriter.writerow([f'Winner : {winner}'])\n",
    "    csvwriter.writerow([\"-------------------------\"])"
   ]
  },
  {
   "cell_type": "code",
   "execution_count": null,
   "id": "22eb11cd-fce0-469b-9168-c53a21b3386f",
   "metadata": {},
   "outputs": [],
   "source": []
  },
  {
   "cell_type": "code",
   "execution_count": null,
   "id": "96843653-f26f-412d-857a-71b684d1aeb8",
   "metadata": {},
   "outputs": [],
   "source": []
  }
 ],
 "metadata": {
  "kernelspec": {
   "display_name": "Python 3 (ipykernel)",
   "language": "python",
   "name": "python3"
  },
  "language_info": {
   "codemirror_mode": {
    "name": "ipython",
    "version": 3
   },
   "file_extension": ".py",
   "mimetype": "text/x-python",
   "name": "python",
   "nbconvert_exporter": "python",
   "pygments_lexer": "ipython3",
   "version": "3.10.9"
  }
 },
 "nbformat": 4,
 "nbformat_minor": 5
}
